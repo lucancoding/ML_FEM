{
 "cells": [
  {
   "cell_type": "markdown",
   "id": "ce04231b",
   "metadata": {},
   "source": [
    "# 主成分分析\n",
    "1）核心思想：\n",
    "主成分分析算法（PCA）是最常用的线性降维方法，它的目标是通过某种线性投影，将高维的数据映射到低维的空间中，并期望在所投影的维度上数据的信息量最大（方差最大），以此使用较少的数据维度，同时保留住较多的原数据点的特性。\n",
    "2）计算步骤：\n",
    "去除平均值\n",
    "计算协方差矩阵\n",
    "计算协方差矩阵的特征值和特征向量\n",
    "将特征值排序\n",
    "保留前N个最大的特征值对应的特征向量\n",
    "将原始特征转换到上面得到的N个特征向量构建的新空间中（最后两步，实现了特征压缩）"
   ]
  },
  {
   "cell_type": "markdown",
   "id": "41ec377a",
   "metadata": {},
   "source": [
    "import numpy as np\n",
    "import matplotlib.pyplot as plt\n",
    "from mpl_toolkits.mplot3d import Axes3D\n",
    "from sklearn.datasets import make_blobs\n",
    "import matplotlib.pyplot as plt"
   ]
  },
  {
   "cell_type": "markdown",
   "id": "986615bf",
   "metadata": {},
   "source": [
    "#X为样本特征，Y为样本簇类别， 共1000个样本，每个样本3个特征，共4个簇\n",
    "X, y = make_blobs(n_samples=10000, n_features=3, centers=[[3,3, 3], [0,0,0], [1,1,1], [2,2,2]], cluster_std=[0.2, 0.1, 0.2, 0.2], \n",
    "                  random_state =9)\n",
    "print(y)\n",
    "y.shape"
   ]
  },
  {
   "cell_type": "markdown",
   "id": "97427b27",
   "metadata": {},
   "source": [
    "fig = plt.figure()\n",
    "ax = Axes3D(fig, rect=[0, 0, 1, 1], elev=30, azim=20)\n",
    "plt.scatter(X[:, 0], X[:, 1], X[:, 2],marker='o')"
   ]
  },
  {
   "cell_type": "code",
   "execution_count": 6,
   "id": "d6bbe7b3",
   "metadata": {},
   "outputs": [
    {
     "name": "stdout",
     "output_type": "stream",
     "text": [
      "[5.29687270e-01 1.61061728e-01 1.01859879e-01 8.74433258e-02\n",
      " 6.79898570e-02 4.03847018e-02 1.08521646e-02 7.21074101e-04\n",
      " 1.07373821e-14 3.53143866e-16]\n",
      "[5.29687626e+00 1.61061836e+00 1.01859948e+00 8.74433847e-01\n",
      " 6.79899028e-01 4.03847290e-01 1.08521719e-01 7.21074587e-03\n",
      " 1.07373894e-13 3.53144104e-15]\n"
     ]
    }
   ],
   "source": [
    "#先不降维，只对数据进行投影，看看投影后的三个维度的方差分布\n",
    "import pandas as pd\n",
    "from sklearn.decomposition import PCA\n",
    "pca = PCA(n_components=10)\n",
    "X=pd.read_excel(r'D:\\Lc_Files\\天津大学\\论文写作、文献、专利\\论文\\数据\\机器学习\\10para.xlsx')\n",
    "pca.fit(X)\n",
    "#返回所保留的n个成分各自的方差百分比\n",
    "print(pca.explained_variance_ratio_)\n",
    "print(pca.explained_variance_)"
   ]
  },
  {
   "cell_type": "code",
   "execution_count": 8,
   "id": "2beb093d",
   "metadata": {},
   "outputs": [
    {
     "name": "stdout",
     "output_type": "stream",
     "text": [
      "[0.52968727 0.16106173 0.10185988 0.08744333]\n",
      "[5.29687626 1.61061836 1.01859948 0.87443385]\n"
     ]
    }
   ],
   "source": [
    "#进行降维，从三维降到2维\n",
    "pca1 = PCA(n_components=4)\n",
    "pca1.fit(X)\n",
    "print(pca1.explained_variance_ratio_)\n",
    "print(pca1.explained_variance_)\n",
    "#返回所保留的n个成分各自的方差百分比"
   ]
  },
  {
   "cell_type": "code",
   "execution_count": 6,
   "id": "65bf3464",
   "metadata": {},
   "outputs": [
    {
     "name": "stdout",
     "output_type": "stream",
     "text": [
      "[0.98318212 0.00850037]\n",
      "[3.78521638 0.03272613]\n"
     ]
    }
   ],
   "source": []
  },
  {
   "cell_type": "code",
   "execution_count": null,
   "id": "c1363684",
   "metadata": {},
   "outputs": [],
   "source": [
    "# 保存降维之后的新的综合特征\n",
    "np.savetxt('wei2.xlsx', X_new, delimiter=',')"
   ]
  }
 ],
 "metadata": {
  "kernelspec": {
   "display_name": "Python 3",
   "language": "python",
   "name": "python3"
  },
  "language_info": {
   "codemirror_mode": {
    "name": "ipython",
    "version": 3
   },
   "file_extension": ".py",
   "mimetype": "text/x-python",
   "name": "python",
   "nbconvert_exporter": "python",
   "pygments_lexer": "ipython3",
   "version": "3.8.8"
  }
 },
 "nbformat": 4,
 "nbformat_minor": 5
}
